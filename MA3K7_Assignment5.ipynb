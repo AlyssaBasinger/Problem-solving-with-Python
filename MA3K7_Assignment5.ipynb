{
 "cells": [
  {
   "cell_type": "code",
   "execution_count": 400,
   "metadata": {},
   "outputs": [],
   "source": [
    "import numpy as np\n",
    "import matplotlib.pyplot as plt\n",
    "import random\n",
    "from scipy import stats\n",
    "import seaborn as sns\n",
    "from matplotlib import colors"
   ]
  },
  {
   "cell_type": "markdown",
   "metadata": {},
   "source": [
    "First, I create a programme that generates a number spiral of dimension n. I also create a function that outputs whether x is prime, and use this to create a visualisation of the distribution of primes in the spiral by highlighting the elements of the spiral different colours depending on if they are prime or composite. "
   ]
  },
  {
   "cell_type": "code",
   "execution_count": 401,
   "metadata": {},
   "outputs": [
    {
     "name": "stdout",
     "output_type": "stream",
     "text": [
      "The spiral is:  [[15377. 15376. 15375. ... 15255. 15254. 15253.]\n",
      " [15378. 14885. 14884. ... 14764. 14763. 15252.]\n",
      " [15379. 14886. 14401. ... 14281. 14762. 15251.]\n",
      " ...\n",
      " [15499. 15006. 14521. ... 14641. 14642. 15131.]\n",
      " [15500. 15007. 15008. ... 15128. 15129. 15130.]\n",
      " [15501. 15502. 15503. ... 15623. 15624. 15625.]]\n"
     ]
    },
    {
     "data": {
      "text/plain": [
       "<matplotlib.image.AxesImage at 0x7fce20e10df0>"
      ]
     },
     "execution_count": 401,
     "metadata": {},
     "output_type": "execute_result"
    },
    {
     "data": {
      "image/png": "[encoded data removed]",
      "text/plain": [
       "<Figure size 432x288 with 1 Axes>"
      ]
     },
     "metadata": {
      "needs_background": "light"
     },
     "output_type": "display_data"
    }
   ],
   "source": [
    "n=125\n",
    "grid=np.zeros((n,n))\n",
    "count=1\n",
    "index_i=int((n-1)/2)\n",
    "index_j=int((n-1)/2)\n",
    "grid[index_i][index_j]=1\n",
    "right=True\n",
    "left=False\n",
    "up=False\n",
    "down=False\n",
    "change=False\n",
    "count_2=1\n",
    "complete=False\n",
    "\n",
    "for i in range((2*n)-1): \n",
    "    complete=False\n",
    "    for j in range(count_2): \n",
    "        count=count+1\n",
    "        if (right==True):\n",
    "           index_j=index_j+1\n",
    "         \n",
    "        if (left==True):\n",
    "           index_j=index_j-1\n",
    "        if (up==True):\n",
    "\n",
    "            index_i=index_i-1\n",
    "        if (down==True):\n",
    "            index_i=index_i+1\n",
    "\n",
    "        grid[index_i][index_j]=count \n",
    "        \n",
    "    if (right==True):\n",
    "        right=False\n",
    "        left=False\n",
    "        up=True\n",
    "        down=False\n",
    "        complete=True\n",
    "    if ((up==True) and (complete==False)):\n",
    "        right=False\n",
    "        left=True\n",
    "        up=False\n",
    "        down=False\n",
    "        complete=True\n",
    "    if ((left==True) and (complete==False)):\n",
    "        right=False\n",
    "        left=False\n",
    "        up=False\n",
    "        down=True\n",
    "        complete=True\n",
    "    if ((down==True) and (complete==False)):\n",
    "        right=True\n",
    "        left=False\n",
    "        up=False\n",
    "        down=False\n",
    "        complete=True\n",
    "\n",
    "    if (((i%2)==1) and (i<(2*n)-3)):\n",
    "        count_2=count_2+1\n",
    "           \n",
    "print(\"The spiral is: \" ,grid)\n",
    "\n",
    "def Prime(x): \n",
    "    Prime=True\n",
    "    if (x==1):\n",
    "        Prime=False\n",
    "    for i in range(2,int(x)):\n",
    "        if ((x%i)==0):\n",
    "            Prime=False\n",
    "    return Prime\n",
    "\n",
    "grid_copy=grid\n",
    "for i in range(n):\n",
    "    for j in range (n):\n",
    "        value=Prime(grid[i][j])\n",
    "        if (value==True):\n",
    "            grid_copy[i][j]=0\n",
    "        else: \n",
    "            grid_copy[i][j]=1\n",
    "\n",
    "cmap=colors.ListedColormap(['green','blue'])\n",
    "bounds=[0,1]\n",
    "norm=colors.BoundaryNorm(bounds,cmap.N)\n",
    "fig=plt.subplots()\n",
    "plt.imshow(grid_copy, cmap=cmap,norm=norm)"
   ]
  },
  {
   "cell_type": "markdown",
   "metadata": {},
   "source": [
    "I adapt my program to generate random numbers up to n^2 in the positions of the spiral instead of incrementing by 1 at each position. This allows me to compare to the original case and so determine whether there is a pattern in the distribution of primes."
   ]
  },
  {
   "cell_type": "code",
   "execution_count": 402,
   "metadata": {},
   "outputs": [
    {
     "name": "stdout",
     "output_type": "stream",
     "text": [
      "The spiral is  [[ 5061.  2116. 10434. ...  9067. 13277.  3440.]\n",
      " [  478. 13905.  4733. ...  8586. 10437.  4682.]\n",
      " [14064.  2414.  9754. ... 10363.  1722.  9175.]\n",
      " ...\n",
      " [ 5687. 12802.   227. ... 13351.  5297. 11239.]\n",
      " [ 1617.  9689. 12537. ... 11208.  1073.  7518.]\n",
      " [12610.   949.  1573. ...  7970.  3539. 14972.]]\n"
     ]
    }
   ],
   "source": [
    "n=125\n",
    "grid=np.zeros((n,n))\n",
    "count=1\n",
    "index_i=int((n-1)/2)\n",
    "index_j=int((n-1)/2)\n",
    "grid[index_i][index_j]=1\n",
    "right=True\n",
    "left=False\n",
    "up=False\n",
    "down=False\n",
    "change=False\n",
    "count_2=1\n",
    "complete=False\n",
    "\n",
    "for i in range((2*n)-1):\n",
    "   \n",
    "    complete=False\n",
    "    for j in range(count_2): \n",
    "        count=count+1\n",
    "        if (right==True):\n",
    "           index_j=index_j+1\n",
    "         \n",
    "        if (left==True):\n",
    "           index_j=index_j-1\n",
    "        if (up==True):\n",
    "\n",
    "            index_i=index_i-1\n",
    "        if (down==True):\n",
    "            index_i=index_i+1\n",
    "        \n",
    "        grid[index_i][index_j]=np.random.randint(1,(n*n)+1)\n",
    "        \n",
    "\n",
    "    if (right==True):\n",
    "        right=False\n",
    "        left=False\n",
    "        up=True\n",
    "        down=False\n",
    "        complete=True\n",
    "    if ((up==True) and (complete==False)):\n",
    "        right=False\n",
    "        left=True\n",
    "        up=False\n",
    "        down=False\n",
    "        complete=True\n",
    "    if ((left==True) and (complete==False)):\n",
    "        right=False\n",
    "        left=False\n",
    "        up=False\n",
    "        down=True\n",
    "        complete=True\n",
    "    if ((down==True) and (complete==False)):\n",
    "        right=True\n",
    "        left=False\n",
    "        up=False\n",
    "        down=False\n",
    "        complete=True\n",
    "\n",
    "    if (((i%2)==1) and (i<(2*n)-3)):\n",
    "        count_2=count_2+1   \n",
    "        \n",
    "print(\"The spiral is \" ,grid)\n",
    "\n",
    "def Prime(x): \n",
    "    Prime=True\n",
    "    if (x==1):\n",
    "        Prime=False\n",
    "    for i in range(2,int(x)):\n",
    "        if ((x%i)==0):\n",
    "            Prime=False\n",
    "    return Prime\n",
    "\n",
    "grid_copy=grid\n",
    "for i in range(n):\n",
    "    for j in range (n):\n",
    "        value=Prime(grid[i][j])\n",
    "        if (value==True):\n",
    "            grid_copy[i][j]=0\n",
    "        if (value==False):\n",
    "            grid_copy[i][j]=1\n",
    "        \n",
    "cmap=colors.ListedColormap(['green','blue'])\n",
    "bounds=[0,1]\n",
    "norm=colors.BoundaryNorm(bounds,cmap.N)\n",
    "fig=plt.figure(figsize=(12,8), dpi= 100, facecolor='w', edgecolor='k')\n",
    "fig=plt.subplots()\n",
    "plt.imshow(grid_copy, cmap=cmap,norm=norm)"
   ]
  },
  {
   "cell_type": "markdown",
   "metadata": {},
   "source": [
    "I define a function which, given the coefficients a,b,c and the value x, computes ax^2+bx+c. If we call this function f, for specific a,b,c, I then find the number of primes in f(1),...f(100). I also find the number of primes in 1,2..f(100), and use this values to find the proprotion of primes in f(1),..f(100) and in 1,2...f(100) respectively. "
   ]
  },
  {
   "cell_type": "code",
   "execution_count": null,
   "metadata": {},
   "outputs": [
    {
     "ename": "KeyboardInterrupt",
     "evalue": "",
     "output_type": "error",
     "traceback": [
      "\u001b[0;31m---------------------------------------------------------------------------\u001b[0m",
      "\u001b[0;31mKeyboardInterrupt\u001b[0m                         Traceback (most recent call last)",
      "\u001b[0;32m/var/folders/q2/6181j98d4tvc8s526g2_thvm0000gn/T/ipykernel_10449/539466187.py\u001b[0m in \u001b[0;36m<module>\u001b[0;34m\u001b[0m\n\u001b[1;32m     12\u001b[0m \u001b[0;34m\u001b[0m\u001b[0m\n\u001b[1;32m     13\u001b[0m \u001b[0;32mfor\u001b[0m \u001b[0mi\u001b[0m \u001b[0;32min\u001b[0m \u001b[0mrange\u001b[0m\u001b[0;34m(\u001b[0m\u001b[0mstop\u001b[0m\u001b[0;34m+\u001b[0m\u001b[0;36m1\u001b[0m\u001b[0;34m)\u001b[0m\u001b[0;34m:\u001b[0m\u001b[0;34m\u001b[0m\u001b[0;34m\u001b[0m\u001b[0m\n\u001b[0;32m---> 14\u001b[0;31m     \u001b[0mval\u001b[0m\u001b[0;34m=\u001b[0m\u001b[0mPrime\u001b[0m\u001b[0;34m(\u001b[0m\u001b[0mi\u001b[0m\u001b[0;34m)\u001b[0m\u001b[0;34m\u001b[0m\u001b[0;34m\u001b[0m\u001b[0m\n\u001b[0m\u001b[1;32m     15\u001b[0m     \u001b[0;32mif\u001b[0m \u001b[0;34m(\u001b[0m\u001b[0mval\u001b[0m\u001b[0;34m==\u001b[0m\u001b[0;32mTrue\u001b[0m\u001b[0;34m)\u001b[0m\u001b[0;34m:\u001b[0m\u001b[0;34m\u001b[0m\u001b[0;34m\u001b[0m\u001b[0m\n\u001b[1;32m     16\u001b[0m         \u001b[0mno_prime\u001b[0m\u001b[0;34m=\u001b[0m\u001b[0mno_prime\u001b[0m\u001b[0;34m+\u001b[0m\u001b[0;36m1\u001b[0m\u001b[0;34m\u001b[0m\u001b[0;34m\u001b[0m\u001b[0m\n",
      "\u001b[0;32m/var/folders/q2/6181j98d4tvc8s526g2_thvm0000gn/T/ipykernel_10449/602179974.py\u001b[0m in \u001b[0;36mPrime\u001b[0;34m(x)\u001b[0m\n\u001b[1;32m     67\u001b[0m         \u001b[0mPrime\u001b[0m\u001b[0;34m=\u001b[0m\u001b[0;32mFalse\u001b[0m\u001b[0;34m\u001b[0m\u001b[0;34m\u001b[0m\u001b[0m\n\u001b[1;32m     68\u001b[0m     \u001b[0;32mfor\u001b[0m \u001b[0mi\u001b[0m \u001b[0;32min\u001b[0m \u001b[0mrange\u001b[0m\u001b[0;34m(\u001b[0m\u001b[0;36m2\u001b[0m\u001b[0;34m,\u001b[0m\u001b[0mint\u001b[0m\u001b[0;34m(\u001b[0m\u001b[0mx\u001b[0m\u001b[0;34m)\u001b[0m\u001b[0;34m)\u001b[0m\u001b[0;34m:\u001b[0m\u001b[0;34m\u001b[0m\u001b[0;34m\u001b[0m\u001b[0m\n\u001b[0;32m---> 69\u001b[0;31m         \u001b[0;32mif\u001b[0m \u001b[0;34m(\u001b[0m\u001b[0;34m(\u001b[0m\u001b[0mx\u001b[0m\u001b[0;34m%\u001b[0m\u001b[0mi\u001b[0m\u001b[0;34m)\u001b[0m\u001b[0;34m==\u001b[0m\u001b[0;36m0\u001b[0m\u001b[0;34m)\u001b[0m\u001b[0;34m:\u001b[0m\u001b[0;34m\u001b[0m\u001b[0;34m\u001b[0m\u001b[0m\n\u001b[0m\u001b[1;32m     70\u001b[0m             \u001b[0mPrime\u001b[0m\u001b[0;34m=\u001b[0m\u001b[0;32mFalse\u001b[0m\u001b[0;34m\u001b[0m\u001b[0;34m\u001b[0m\u001b[0m\n\u001b[1;32m     71\u001b[0m     \u001b[0;32mreturn\u001b[0m \u001b[0mPrime\u001b[0m\u001b[0;34m\u001b[0m\u001b[0;34m\u001b[0m\u001b[0m\n",
      "\u001b[0;31mKeyboardInterrupt\u001b[0m: "
     ]
    }
   ],
   "source": [
    "def func(x,a,b,c):\n",
    "    return (a*(x**2)+b*x+c)\n",
    "\n",
    "stop=func(100,8,-3,7)\n",
    "no_prime_poly=0\n",
    "no_prime=0\n",
    "for i in range (101):\n",
    "    number=func(i,4,-2,1)\n",
    "    val=Prime(number)\n",
    "    if (val==True):\n",
    "        no_prime_poly=no_prime_poly+1\n",
    "      \n",
    "for i in range(stop+1):\n",
    "    val=Prime(i)\n",
    "    if (val==True):\n",
    "        no_prime=no_prime+1\n",
    "       \n",
    "proportion_prime_poly=0\n",
    "proportion_prime=0\n",
    "\n",
    "proportion_prime_poly=no_prime_poly/100\n",
    "proportion_prime=no_prime/stop\n",
    "\n",
    "print(\"The proportion of f(1),..f(100) that are prime is: \" ,proportion_prime_poly)\n",
    "print(\"The proportion of 1,2,..f(100) that are prime is: \" ,proportion_prime)\n",
    "  "
   ]
  },
  {
   "cell_type": "markdown",
   "metadata": {},
   "source": [
    "For values of a,b,c each ranging from 1 to 5, I find for f(x)=ax^2+bx+c the proportion of f(1),...f(100) that are prime and the proportion of 1,2,...f(100) that are prime. I store my results in an array. For each such polynomial, I divide the proportion of f(1),..f(100) that are prime bby the proportion of 1,2,...f(100) that are prime to get an estimate for the ratio of numbers generated by the function being prime in comparison to any number up to f(100) being prime. "
   ]
  },
  {
   "cell_type": "code",
   "execution_count": null,
   "metadata": {},
   "outputs": [
    {
     "name": "stdout",
     "output_type": "stream",
     "text": [
      "76 of the  125 polynomials generated values more likely to be prime than general numbers from 1,2,..f(100)\n"
     ]
    }
   ],
   "source": [
    "results=np.zeros((5,5,5))\n",
    "count=0\n",
    "total=0\n",
    "for i in range (1,6):\n",
    "    \n",
    "    for j in range(1,6):\n",
    "        for k in range(1,6):\n",
    "            stop=func(100,i,j,k)\n",
    "            no_prime_poly=0\n",
    "            no_prime=0\n",
    "            for m in range (101):\n",
    "                number=func(m,i,j,k)\n",
    "                val=Prime(number)\n",
    "                if (val==True):\n",
    "                    no_prime_poly=no_prime_poly+1\n",
    "\n",
    "                \n",
    "            for m in range(stop+1):\n",
    "                val=Prime(m)\n",
    "                if (val==True):\n",
    "                    no_prime=no_prime+1\n",
    "\n",
    "            proportion_prime_poly=no_prime_poly/100\n",
    "            proportion_prime=no_prime/stop\n",
    "            results[i-1][j-1][k-1]=proportion_prime_poly/proportion_prime\n",
    "            if (results[i-1][j-1][k-1]>1):\n",
    "                count=count+1\n",
    "            total=total+1\n",
    "\n",
    "print(count, \"of the \" ,total, \"polynomials generated values more likely to be prime than general numbers from 1,2,..f(100)\")\n",
    "            \n"
   ]
  },
  {
   "cell_type": "markdown",
   "metadata": {},
   "source": [
    "I find the maximum number in my results array and its corresponding i,j and k indexes. This shows me the polynomial out of those I considered which generates the most primes."
   ]
  },
  {
   "cell_type": "code",
   "execution_count": null,
   "metadata": {},
   "outputs": [
    {
     "name": "stdout",
     "output_type": "stream",
     "text": [
      "The maximum proportion was:  4.777121621621621 with i,j,k indexes respectively:  4 4 0\n"
     ]
    }
   ],
   "source": [
    "index_1=0\n",
    "index_2=0\n",
    "index_3=0\n",
    "max=0 \n",
    "for i in range(5):\n",
    "    for j in range(5):\n",
    "        for k in range(5):\n",
    "            if (results[i][j][k]>max):\n",
    "                max=results[i][j][k]\n",
    "                index_1=i\n",
    "                index_2=j\n",
    "                index_3=k\n",
    "print(\"The maximum proportion was: \" ,max, \"with i,j,k indexes respectively: \" ,index_1, index_2, index_3)"
   ]
  },
  {
   "cell_type": "markdown",
   "metadata": {},
   "source": [
    "I now adapt my function so the spiral only consists of odd numbers to see if I observe the same patterns."
   ]
  },
  {
   "cell_type": "code",
   "execution_count": null,
   "metadata": {},
   "outputs": [
    {
     "name": "stdout",
     "output_type": "stream",
     "text": [
      "The spiral is:  [[30753. 30751. 30749. ... 30509. 30507. 30505.]\n",
      " [30755. 29769. 29767. ... 29527. 29525. 30503.]\n",
      " [30757. 29771. 28801. ... 28561. 29523. 30501.]\n",
      " ...\n",
      " [30997. 30011. 29041. ... 29281. 29283. 30261.]\n",
      " [30999. 30013. 30015. ... 30255. 30257. 30259.]\n",
      " [31001. 31003. 31005. ... 31245. 31247. 31249.]]\n"
     ]
    },
    {
     "data": {
      "text/plain": [
       "<matplotlib.image.AxesImage at 0x7fce20b3d940>"
      ]
     },
     "execution_count": 395,
     "metadata": {},
     "output_type": "execute_result"
    },
    {
     "data": {
      "text/plain": [
       "<Figure size 1200x800 with 0 Axes>"
      ]
     },
     "metadata": {},
     "output_type": "display_data"
    },
    {
     "data": {
      "image/png": "[encoded data removed]",
      "text/plain": [
       "<Figure size 432x288 with 1 Axes>"
      ]
     },
     "metadata": {
      "needs_background": "light"
     },
     "output_type": "display_data"
    }
   ],
   "source": [
    "n=125\n",
    "grid=np.zeros((n,n))\n",
    "count=1\n",
    "index_i=int((n-1)/2)\n",
    "index_j=int((n-1)/2)\n",
    "grid[index_i][index_j]=1\n",
    "right=True\n",
    "left=False\n",
    "up=False\n",
    "down=False\n",
    "change=False\n",
    "count_2=1\n",
    "complete=False\n",
    "\n",
    "for i in range((2*n)-1):\n",
    "   \n",
    "    complete=False\n",
    "    for j in range(count_2): \n",
    "        count=count+2\n",
    "        if (right==True):\n",
    "           index_j=index_j+1\n",
    "         \n",
    "        if (left==True):\n",
    "           index_j=index_j-1\n",
    "        if (up==True):\n",
    "\n",
    "            index_i=index_i-1\n",
    "        if (down==True):\n",
    "            index_i=index_i+1\n",
    "        \n",
    "        grid[index_i][index_j]=count\n",
    "        \n",
    "\n",
    "    if (right==True):\n",
    "        right=False\n",
    "        left=False\n",
    "        up=True\n",
    "        down=False\n",
    "        complete=True\n",
    "    if ((up==True) and (complete==False)):\n",
    "        right=False\n",
    "        left=True\n",
    "        up=False\n",
    "        down=False\n",
    "        complete=True\n",
    "    if ((left==True) and (complete==False)):\n",
    "        right=False\n",
    "        left=False\n",
    "        up=False\n",
    "        down=True\n",
    "        complete=True\n",
    "    if ((down==True) and (complete==False)):\n",
    "        right=True\n",
    "        left=False\n",
    "        up=False\n",
    "        down=False\n",
    "        complete=True\n",
    "\n",
    "    if (((i%2)==1) and (i<(2*n)-3)):\n",
    "        count_2=count_2+1\n",
    "    \n",
    "print(\"The spiral is: \" ,grid)\n",
    "\n",
    "def Prime(x): \n",
    "    Prime=True\n",
    "    if (x==1):\n",
    "        Prime=False\n",
    "    for i in range(2,int(x)):\n",
    "        if ((x%i)==0):\n",
    "            Prime=False\n",
    "    return Prime\n",
    "\n",
    "grid_copy=grid\n",
    "for i in range(n):\n",
    "    for j in range (n):\n",
    "        value=Prime(grid[i][j])\n",
    "        if (value==True):\n",
    "            grid_copy[i][j]=0\n",
    "        if (value==False):\n",
    "            grid_copy[i][j]=1\n",
    "        \n",
    "cmap=colors.ListedColormap(['green','blue'])\n",
    "bounds=[0,1]\n",
    "norm=colors.BoundaryNorm(bounds,cmap.N)\n",
    "fig=plt.figure(figsize=(12,8), dpi= 100, facecolor='w', edgecolor='k')\n",
    "fig, ax=plt.subplots()\n",
    "ax.imshow(grid_copy, cmap=cmap,norm=norm)"
   ]
  }
 ],
 "metadata": {
  "kernelspec": {
   "display_name": "base",
   "language": "python",
   "name": "python3"
  },
  "language_info": {
   "codemirror_mode": {
    "name": "ipython",
    "version": 3
   },
   "file_extension": ".py",
   "mimetype": "text/x-python",
   "name": "python",
   "nbconvert_exporter": "python",
   "pygments_lexer": "ipython3",
   "version": "3.9.7"
  }
 },
 "nbformat": 4,
 "nbformat_minor": 2
}
