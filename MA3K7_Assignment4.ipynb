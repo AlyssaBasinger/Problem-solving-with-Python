{
 "cells": [
  {
   "cell_type": "code",
   "execution_count": 433,
   "metadata": {},
   "outputs": [],
   "source": [
    "import numpy as np\n",
    "import matplotlib.pyplot as plt\n",
    "import random\n",
    "from scipy import stats\n",
    "import seaborn as sns\n",
    "from math import comb"
   ]
  },
  {
   "cell_type": "markdown",
   "metadata": {},
   "source": [
    "Firstly, I create a program to model the process of starting from position '1'- represented by the variable 1, and moving N places after obtaining value N on the coin throw. I perform 24 coin throws as after this point I must definitely be at or beyond place 25."
   ]
  },
  {
   "cell_type": "code",
   "execution_count": 434,
   "metadata": {},
   "outputs": [
    {
     "name": "stdout",
     "output_type": "stream",
     "text": [
      "2\n",
      "3\n",
      "5\n",
      "6\n",
      "8\n",
      "9\n",
      "11\n",
      "13\n",
      "14\n",
      "15\n",
      "16\n",
      "17\n",
      "19\n",
      "20\n",
      "21\n",
      "23\n",
      "25\n",
      "26\n",
      "28\n",
      "29\n",
      "31\n",
      "33\n",
      "34\n",
      "35\n",
      "True\n"
     ]
    }
   ],
   "source": [
    "sum=1\n",
    "coin=0\n",
    "On_25=False \n",
    "for i in range (24): \n",
    "    coin=np.random.randint(1,3)\n",
    "    sum=sum+coin\n",
    "    print(sum)\n",
    "    if (sum==25):\n",
    "        On_25=True\n",
    "print(On_25)"
   ]
  },
  {
   "cell_type": "markdown",
   "metadata": {},
   "source": [
    "Now, I adapt my program to become a function which takes the parameter n, the number of times to model the process, and outputs the number of these times in which we land on 25. "
   ]
  },
  {
   "cell_type": "code",
   "execution_count": 435,
   "metadata": {},
   "outputs": [],
   "source": [
    "\n",
    "\n",
    "def path(n):\n",
    "    number_yes=0\n",
    "    for i in range(n):\n",
    "        sum=1\n",
    "        On_25=False\n",
    "        for k in range (24): \n",
    "            coin=np.random.randint(1,3)\n",
    "            sum=sum+coin\n",
    "            if (sum==25):\n",
    "                On_25=True\n",
    "        if (On_25==True):\n",
    "            number_yes=number_yes+1\n",
    "    return number_yes\n"
   ]
  },
  {
   "cell_type": "markdown",
   "metadata": {},
   "source": [
    "I model the process 100000 times and output the number of times we land on 25. I create a pi chart representing the number of times we do and do not land on 25. "
   ]
  },
  {
   "cell_type": "code",
   "execution_count": 436,
   "metadata": {},
   "outputs": [
    {
     "name": "stdout",
     "output_type": "stream",
     "text": [
      "Number of times landes on 25:  66686\n"
     ]
    },
    {
     "data": {
      "image/png": "[encoded data removed]",
      "text/plain": [
       "<Figure size 1200x800 with 1 Axes>"
      ]
     },
     "metadata": {},
     "output_type": "display_data"
    }
   ],
   "source": [
    "number_25s=path(100000)\n",
    "print(\"Number of times landes on 25: \" ,number_25s)\n",
    "number_not25s=100000-number_25s\n",
    "y=np.array([number_25s, number_not25s])\n",
    "fig=plt.figure(figsize=(12,8), dpi= 100, facecolor='w', edgecolor='k')\n",
    "labels= '25 obtained', '25 not obtained'\n",
    "plt.pie(y, labels=labels)\n",
    "plt.legend()\n",
    "plt.show()"
   ]
  },
  {
   "cell_type": "markdown",
   "metadata": {},
   "source": [
    "Here, I perform the calculations to determine the number of possible paths as calculated by considering the solutions to the equation 2a+b=24. For each solution, I find the number of possible paths up to throw a+b and multiply this by 2 for the subsequent throws up to throw 24. The value total sums up these possibilities. I then find this value as a percentage of all possible paths, 2^(24)."
   ]
  },
  {
   "cell_type": "code",
   "execution_count": 437,
   "metadata": {},
   "outputs": [
    {
     "name": "stdout",
     "output_type": "stream",
     "text": [
      "Total possible paths passing through 25:  11184811\n",
      "Total paths:  16777216\n",
      "Percentage of total paths that pass through 25:  66.66666865348816\n"
     ]
    }
   ],
   "source": [
    "total=0\n",
    "for i in range (13):\n",
    "    total=total+((comb(24-i, 24-(2*i)))*(2**i))\n",
    "\n",
    "    \n",
    "print(\"Total possible paths passing through 25: \" ,total)\n",
    "print(\"Total paths: \" ,2**24)\n",
    "print(\"Percentage of total paths that pass through 25: \" ,(total/(2**24))*100)\n",
    "\n"
   ]
  },
  {
   "cell_type": "markdown",
   "metadata": {},
   "source": [
    "I addate my program to consider when we land on different values other than 25- for example below I consider 3."
   ]
  },
  {
   "cell_type": "code",
   "execution_count": 438,
   "metadata": {},
   "outputs": [
    {
     "name": "stdout",
     "output_type": "stream",
     "text": [
      "Landed on 3?  False\n"
     ]
    }
   ],
   "source": [
    "sum=1\n",
    "coin=0\n",
    "On_3=False \n",
    "for i in range (2): \n",
    "    coin=np.random.randint(1,3)\n",
    "    sum=sum+coin\n",
    "    if (sum==3):\n",
    "        On_3=True\n",
    "\n",
    "print(\"Landed on 3? \" ,On_3)"
   ]
  },
  {
   "cell_type": "markdown",
   "metadata": {},
   "source": [
    "Now, I investigate how likely we are to land on 100 by performing 100000 models of the process and outputting on how many 100 is obatined. This is part of my investigation into whether there is sometthing unique about k=25 or if my findings extend to other values."
   ]
  },
  {
   "cell_type": "code",
   "execution_count": 439,
   "metadata": {},
   "outputs": [],
   "source": [
    "def path(n):\n",
    "    number_yes=0\n",
    "    for i in range(n):\n",
    "        sum=1\n",
    "        On_100=False\n",
    "        for k in range (99): \n",
    "            coin=np.random.randint(1,3)\n",
    "            sum=sum+coin\n",
    "            if (sum==100):\n",
    "                On_100=True\n",
    "        if (On_100==True):\n",
    "            number_yes=number_yes+1\n",
    "    return number_yes"
   ]
  },
  {
   "cell_type": "code",
   "execution_count": 440,
   "metadata": {},
   "outputs": [
    {
     "name": "stdout",
     "output_type": "stream",
     "text": [
      "Number of models in which landed on 100:  66523\n"
     ]
    }
   ],
   "source": [
    "number=path(100000)\n",
    "print(\"Number of models in which landed on 100: \" ,number)"
   ]
  },
  {
   "cell_type": "markdown",
   "metadata": {},
   "source": [
    "I create a function to find how likely we are to land on value k, where we can choose the value k takes. I run this program from k=2 to 1000 and create a scatter plot of my results."
   ]
  },
  {
   "cell_type": "code",
   "execution_count": 441,
   "metadata": {},
   "outputs": [],
   "source": [
    "def path(n,k):\n",
    "    number_yes=0\n",
    "    for i in range(n):\n",
    "        sum=1\n",
    "        On_val=False\n",
    "        for j in range (k-1): \n",
    "            coin=np.random.randint(1,3)\n",
    "            sum=sum+coin\n",
    "            if (sum==k):\n",
    "                On_val=True\n",
    "        if (On_val==True):\n",
    "            number_yes=number_yes+1\n",
    "    return (100*number_yes/n)"
   ]
  },
  {
   "cell_type": "code",
   "execution_count": 442,
   "metadata": {},
   "outputs": [
    {
     "name": "stdout",
     "output_type": "stream",
     "text": [
      "[50.108 75.012 62.502 68.784 65.7   67.323 66.58  67.131 66.464 66.836\n",
      " 66.427 66.42  66.613 67.032 66.565 66.625 66.783 66.673 66.641 66.95\n",
      " 66.743 66.532 66.788 66.884 66.796 66.729 66.635 66.716 66.496 66.539\n",
      " 66.617 66.697 66.736 66.842 66.919 66.944 66.837 66.718 66.598 67.042\n",
      " 66.512 66.486 66.727 66.778 66.893 66.347 66.638 66.574 66.81  66.925\n",
      " 66.592 66.584 66.72  66.676 66.679 66.68  66.911 66.489 66.669 66.771\n",
      " 66.826 66.797 66.585 66.674 67.063 66.675 66.558 66.508 66.82  66.572\n",
      " 66.705 66.517 66.706 66.539 66.639 66.654 66.35  66.507 66.705 66.592\n",
      " 66.528 67.083 66.186 66.559 66.524 66.839 66.531 66.522 66.482 66.93\n",
      " 66.615 66.547 66.525 66.733 66.662 66.61  66.703 66.538]\n"
     ]
    }
   ],
   "source": [
    "results=np.zeros(98)\n",
    "for i in range(2,100):\n",
    "    results[i-2]=path(100000,i)\n",
    "\n",
    "print(results)"
   ]
  },
  {
   "cell_type": "code",
   "execution_count": 443,
   "metadata": {},
   "outputs": [
    {
     "data": {
      "image/png": "[encoded data removed]",
      "text/plain": [
       "<Figure size 1200x800 with 1 Axes>"
      ]
     },
     "metadata": {},
     "output_type": "display_data"
    }
   ],
   "source": [
    "x=np.zeros(98)\n",
    "for i in range(98):\n",
    "    x[i]=i+2\n",
    "fig=plt.figure(figsize=(12,8), dpi= 100, facecolor='w', edgecolor='k')\n",
    "plt.xlabel(\"Value of k\")\n",
    "plt.ylabel(\"Probability of landing on K\")\n",
    "plt.scatter(x,results)\n",
    "plt.show()"
   ]
  },
  {
   "cell_type": "markdown",
   "metadata": {},
   "source": [
    "Now, I change the rules of the process so that instead of the coin having values 1 and 2 on either side, it has values 1 and 3. I first run this program to determine how likely I am to land on 25."
   ]
  },
  {
   "cell_type": "code",
   "execution_count": 444,
   "metadata": {},
   "outputs": [],
   "source": [
    "def path(n):\n",
    "    number_yes=0\n",
    "    for i in range(n):\n",
    "        sum=1\n",
    "        On_25=False\n",
    "        for k in range (24): \n",
    "            coin=np.random.randint(1,4)\n",
    "            while (coin==2):\n",
    "                coin=np.random.randint(1,4)\n",
    "            sum=sum+coin\n",
    "            if (sum==25):\n",
    "                On_25=True\n",
    "        if (On_25==True):\n",
    "            number_yes=number_yes+1\n",
    "    return number_yes\n"
   ]
  },
  {
   "cell_type": "code",
   "execution_count": 445,
   "metadata": {},
   "outputs": [
    {
     "name": "stdout",
     "output_type": "stream",
     "text": [
      "Number of times I land on 25:  5013\n"
     ]
    }
   ],
   "source": [
    "number=path(10000)\n",
    "print(\"Number of times I land on 25: \" ,number)"
   ]
  },
  {
   "cell_type": "markdown",
   "metadata": {},
   "source": [
    "Now, I update my program so that I again run through different values of k, ranging from 2 to 100, with the updated rule of having two numbers a,b on either side of the coin. For example, below I set these two values to be 4 and 6, and create a scatter plot of my results."
   ]
  },
  {
   "cell_type": "code",
   "execution_count": 450,
   "metadata": {},
   "outputs": [],
   "source": [
    "def path(n,k):\n",
    "    number_yes=0\n",
    "    for i in range(n):\n",
    "        sum=1\n",
    "        On_val=False\n",
    "        for j in range (k-1): \n",
    "            coin=np.random.randint(4,7)\n",
    "            while ((coin==5)):\n",
    "                coin=np.random.randint(4,7)\n",
    "            sum=sum+coin\n",
    "            if (sum==k):\n",
    "                On_val=True\n",
    "        if (On_val==True):\n",
    "            number_yes=number_yes+1\n",
    "    return (100*number_yes/n)"
   ]
  },
  {
   "cell_type": "code",
   "execution_count": 451,
   "metadata": {},
   "outputs": [
    {
     "name": "stdout",
     "output_type": "stream",
     "text": [
      "[ 0.    0.    0.   49.95  0.   50.18  0.   25.11  0.   50.11  0.   37.6\n",
      "  0.   36.81  0.   44.12  0.   37.2   0.   39.8   0.   40.68  0.   38.77\n",
      "  0.   40.81  0.   39.7   0.   40.79  0.   40.23  0.   39.57  0.   40.29\n",
      "  0.   39.41  0.   40.4   0.   40.01  0.   39.86  0.   40.52  0.   40.4\n",
      "  0.   39.68  0.   39.62  0.   38.97  0.   39.47  0.   39.25  0.   39.62\n",
      "  0.   40.63  0.   40.06  0.   39.83  0.   40.35  0.   39.84  0.   39.46\n",
      "  0.   40.    0.   39.78  0.   39.84  0.   39.56  0.   40.09  0.   40.01\n",
      "  0.   39.97  0.   40.16  0.   39.58  0.   39.68  0.   40.49  0.   41.42\n",
      "  0.   40.05]\n"
     ]
    },
    {
     "data": {
      "image/png": "[encoded data removed]",
      "text/plain": [
       "<Figure size 1200x800 with 1 Axes>"
      ]
     },
     "metadata": {},
     "output_type": "display_data"
    }
   ],
   "source": [
    "results=np.zeros(98)\n",
    "for i in range(2,100):\n",
    "    results[i-2]=path(10000,i)\n",
    "\n",
    "print(results)\n",
    "\n",
    "x=np.zeros(98)\n",
    "for i in range(98):\n",
    "    x[i]=i+2\n",
    "\n",
    "fig=plt.figure(figsize=(12,8), dpi= 100, facecolor='w', edgecolor='k')\n",
    "plt.xlabel(\"Value of k\")\n",
    "plt.ylabel(\"Probability of landing on K\")\n",
    "plt.scatter(x,results)\n",
    "plt.show()"
   ]
  }
 ],
 "metadata": {
  "kernelspec": {
   "display_name": "base",
   "language": "python",
   "name": "python3"
  },
  "language_info": {
   "codemirror_mode": {
    "name": "ipython",
    "version": 3
   },
   "file_extension": ".py",
   "mimetype": "text/x-python",
   "name": "python",
   "nbconvert_exporter": "python",
   "pygments_lexer": "ipython3",
   "version": "3.9.7"
  }
 },
 "nbformat": 4,
 "nbformat_minor": 2
}
